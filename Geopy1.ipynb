{
 "cells": [
  {
   "cell_type": "markdown",
   "id": "2ab9daea",
   "metadata": {},
   "source": [
    "# Geopy"
   ]
  },
  {
   "cell_type": "markdown",
   "id": "51050c8f",
   "metadata": {},
   "source": [
    "### Geopy is a Python library that provides various geocoding and geolocation services. It allows developers to interact with popular geocoding services like Google Geocoding API, OpenStreetMap Nominatim, Bing Maps API, etc. Geopy makes it easy to convert addresses into geographic coordinates (latitude and longitude) and vice versa."
   ]
  },
  {
   "cell_type": "markdown",
   "id": "64d6622e",
   "metadata": {},
   "source": [
    "### Importing the necessary module and creating a geocoder object:"
   ]
  },
  {
   "cell_type": "code",
   "execution_count": 101,
   "id": "91f40fc1",
   "metadata": {},
   "outputs": [],
   "source": [
    "from geopy.geocoders import Nominatim\n",
    "\n",
    "geolocator = Nominatim(user_agent=\"my_geocoder\")"
   ]
  },
  {
   "cell_type": "markdown",
   "id": "209d931a",
   "metadata": {},
   "source": [
    "#### In this step, we import the Nominatim geocoder from the geopy.geocoders module. The Nominatim geocoder is based on OpenStreetMap data and provides geocoding functionality. We create a geocoder object called geolocator and specify a user agent (a unique identifier for our geocoding requests)."
   ]
  },
  {
   "cell_type": "markdown",
   "id": "709c9d3f",
   "metadata": {},
   "source": [
    "## Geocoding a location:"
   ]
  },
  {
   "cell_type": "markdown",
   "id": "a3844d52",
   "metadata": {},
   "source": [
    "#### Geocoding: Geocoding is the process of converting an address or place name into geographic coordinates (latitude and longitude). Geopy allows you to perform geocoding using different geocoding providers. "
   ]
  },
  {
   "cell_type": "code",
   "execution_count": 102,
   "id": "e1ff748b",
   "metadata": {},
   "outputs": [],
   "source": [
    "location = geolocator.geocode(\"New York City\")"
   ]
  },
  {
   "cell_type": "code",
   "execution_count": 11,
   "id": "49042dd5",
   "metadata": {},
   "outputs": [
    {
     "name": "stdout",
     "output_type": "stream",
     "text": [
      "City of New York, New York, United States\n"
     ]
    }
   ],
   "source": [
    "print(location)"
   ]
  },
  {
   "cell_type": "markdown",
   "id": "988e80e0",
   "metadata": {},
   "source": [
    "#### We use the geocode method of the geocoder object to geocode a location. In this example, we provide the address \"New York City\" as the input. The geocode method sends a request to the geocoding service (in this case, Nominatim) and retrieves the geocoded result."
   ]
  },
  {
   "cell_type": "markdown",
   "id": "7ccbf0b1",
   "metadata": {},
   "source": [
    "### Retrieving latitude and longitude:"
   ]
  },
  {
   "cell_type": "code",
   "execution_count": 7,
   "id": "76c58923",
   "metadata": {},
   "outputs": [],
   "source": [
    "latitude = location.latitude\n",
    "longitude = location.longitude"
   ]
  },
  {
   "cell_type": "markdown",
   "id": "44ca039c",
   "metadata": {},
   "source": [
    "#### After geocoding the location, we extract the latitude and longitude from the location object. These values represent the geographic coordinates of the given location."
   ]
  },
  {
   "cell_type": "markdown",
   "id": "f17c9345",
   "metadata": {},
   "source": [
    "### Printing the results:"
   ]
  },
  {
   "cell_type": "code",
   "execution_count": 10,
   "id": "546978c3",
   "metadata": {},
   "outputs": [
    {
     "name": "stdout",
     "output_type": "stream",
     "text": [
      "Location: New York City\n",
      "Latitude: 40.7127281\n",
      "Longitude: -74.0060152\n"
     ]
    }
   ],
   "source": [
    "print(\"Location: New York City\")\n",
    "print(\"Latitude:\", latitude)\n",
    "print(\"Longitude:\", longitude)"
   ]
  },
  {
   "cell_type": "markdown",
   "id": "4a9a9cf6",
   "metadata": {},
   "source": [
    "#### Finally, we print the geocoded results to the console."
   ]
  },
  {
   "cell_type": "markdown",
   "id": "df1900a5",
   "metadata": {},
   "source": [
    "### Another Simple Egs:"
   ]
  },
  {
   "cell_type": "markdown",
   "id": "448ee576",
   "metadata": {},
   "source": [
    "#### 1. Geocoding an ambiguous query: In this case, the geocoding query \"Springfield\" is ambiguous because there are multiple places with the same name. The geocoding service will return one of the possible results, and the location object will contain details about that specific result."
   ]
  },
  {
   "cell_type": "code",
   "execution_count": 16,
   "id": "1d808830",
   "metadata": {},
   "outputs": [
    {
     "name": "stdout",
     "output_type": "stream",
     "text": [
      "Springfield, Sangamon County, Illinois, United States\n"
     ]
    }
   ],
   "source": [
    "location = geolocator.geocode(\"Springfield\")\n",
    "print(location)"
   ]
  },
  {
   "cell_type": "markdown",
   "id": "a44b0311",
   "metadata": {},
   "source": [
    "#### 2. Geocoding a city name with multiple results- When geocoding a city name like \"Paris,\" the geocoding service may return multiple results. The geocode method returns one of the matching results. The printed location object provides information about the specific result, including latitude and longitude."
   ]
  },
  {
   "cell_type": "code",
   "execution_count": 15,
   "id": "d3626261",
   "metadata": {},
   "outputs": [
    {
     "name": "stdout",
     "output_type": "stream",
     "text": [
      "Paris, Île-de-France, France métropolitaine, France\n"
     ]
    }
   ],
   "source": [
    "location = geolocator.geocode(\"Paris\")\n",
    "print(location)"
   ]
  },
  {
   "cell_type": "markdown",
   "id": "a0b223f1",
   "metadata": {},
   "source": [
    "#### 3. Geocoding a specific address - "
   ]
  },
  {
   "cell_type": "code",
   "execution_count": 17,
   "id": "8a7efe01",
   "metadata": {},
   "outputs": [
    {
     "name": "stdout",
     "output_type": "stream",
     "text": [
      "Google Headquarters, 1600, Amphitheatre Parkway, Mountain View, Santa Clara County, CAL Fire Northern Region, California, 94043, United States\n"
     ]
    }
   ],
   "source": [
    "location = geolocator.geocode(\"1600 Amphitheatre Parkway, Mountain View, CA\")\n",
    "print(location)"
   ]
  },
  {
   "cell_type": "markdown",
   "id": "d9d5d705",
   "metadata": {},
   "source": [
    "## Reverse Geocoding:"
   ]
  },
  {
   "cell_type": "code",
   "execution_count": 18,
   "id": "b9d35172",
   "metadata": {},
   "outputs": [],
   "source": [
    "#Create a geocoder object-\n",
    "\n",
    "geolocator = Nominatim(user_agent=\"my-app\")"
   ]
  },
  {
   "cell_type": "code",
   "execution_count": 21,
   "id": "e9b27072",
   "metadata": {
    "scrolled": false
   },
   "outputs": [],
   "source": [
    "#Perform reverse geocoding-\n",
    "\n",
    "location = geolocator.reverse(\"37.4224, -122.0856\")"
   ]
  },
  {
   "cell_type": "code",
   "execution_count": 22,
   "id": "c93e0ca8",
   "metadata": {},
   "outputs": [],
   "source": [
    "#Retrieve the address-\n",
    "\n",
    "address = location.address"
   ]
  },
  {
   "cell_type": "code",
   "execution_count": 23,
   "id": "818f0c18",
   "metadata": {},
   "outputs": [
    {
     "name": "stdout",
     "output_type": "stream",
     "text": [
      "Address: Google Building 41, 1600, Amphitheatre Parkway, Mountain View, Santa Clara County, CAL Fire Northern Region, California, 94043, United States\n"
     ]
    }
   ],
   "source": [
    "#Print the result-\n",
    "\n",
    "print(f\"Address: {address}\")"
   ]
  },
  {
   "cell_type": "markdown",
   "id": "bd851f67",
   "metadata": {},
   "source": [
    "#### We pass the latitude and longitude as a string to the reverse method, which returns a Location object containing the address information. We can access the address for further use."
   ]
  },
  {
   "cell_type": "markdown",
   "id": "28e79858",
   "metadata": {},
   "source": [
    "## Distance Calculation:"
   ]
  },
  {
   "cell_type": "markdown",
   "id": "5f263991",
   "metadata": {},
   "source": [
    "#### Geopy allows you to calculate distances between two points on the Earth's surface using different distance formulas."
   ]
  },
  {
   "cell_type": "code",
   "execution_count": 25,
   "id": "c54c054f",
   "metadata": {},
   "outputs": [],
   "source": [
    "from geopy.distance import geodesic"
   ]
  },
  {
   "cell_type": "code",
   "execution_count": 26,
   "id": "579ed33e",
   "metadata": {},
   "outputs": [],
   "source": [
    "#Coordinates of two points-\n",
    "\n",
    "point1 = (40.7128, -74.0060)  #New York City\n",
    "point2 = (34.0522, -118.2437)  #Los Angeles"
   ]
  },
  {
   "cell_type": "code",
   "execution_count": 27,
   "id": "6f431735",
   "metadata": {},
   "outputs": [],
   "source": [
    "#Calculate the distance-\n",
    "\n",
    "distance = geodesic(point1, point2).miles"
   ]
  },
  {
   "cell_type": "code",
   "execution_count": 28,
   "id": "4c15bf19",
   "metadata": {},
   "outputs": [
    {
     "name": "stdout",
     "output_type": "stream",
     "text": [
      "Distance: 2450.950344668338 miles\n"
     ]
    }
   ],
   "source": [
    "#Print the result-\n",
    "\n",
    "print(f\"Distance: {distance} miles\")"
   ]
  },
  {
   "cell_type": "markdown",
   "id": "717dc13f",
   "metadata": {},
   "source": [
    "#### We import the geodesic function from geopy.distance. We define the coordinates of two points (latitude and longitude) and use the geodesic function to calculate the distance between them in miles."
   ]
  },
  {
   "cell_type": "markdown",
   "id": "883281d0",
   "metadata": {},
   "source": [
    "### Another Example-"
   ]
  },
  {
   "cell_type": "code",
   "execution_count": 42,
   "id": "cb38988b",
   "metadata": {},
   "outputs": [],
   "source": [
    "#Importing the geodesic module from the library-\n",
    "\n",
    "from geopy.distance import geodesic"
   ]
  },
  {
   "cell_type": "code",
   "execution_count": 43,
   "id": "9f7f872f",
   "metadata": {},
   "outputs": [],
   "source": [
    "#Loading the lat-long data for Kolkata & Delhi-\n",
    "\n",
    "kolkata = (22.5726, 88.3639)\n",
    "delhi = (28.7041, 77.1025)"
   ]
  },
  {
   "cell_type": "code",
   "execution_count": 44,
   "id": "4cc36672",
   "metadata": {},
   "outputs": [
    {
     "name": "stdout",
     "output_type": "stream",
     "text": [
      "1318.13891581683\n"
     ]
    }
   ],
   "source": [
    "#Print the distance calculated in km-\n",
    "\n",
    "print(geodesic(kolkata, delhi).km)"
   ]
  },
  {
   "cell_type": "code",
   "execution_count": 46,
   "id": "93ceb76f",
   "metadata": {},
   "outputs": [
    {
     "name": "stdout",
     "output_type": "stream",
     "text": [
      "1317.7554645657162\n"
     ]
    }
   ],
   "source": [
    "#Great Circle Distance- \n",
    "\n",
    "from geopy.distance import great_circle\n",
    "print(great_circle(kolkata, delhi).km)"
   ]
  },
  {
   "cell_type": "markdown",
   "id": "22e8dce1",
   "metadata": {},
   "source": [
    "#### Great Circle Distance: It is the length of the shortest path between 2 points on a sphere. In this case, the earth is assumed to be a perfect sphere. "
   ]
  },
  {
   "cell_type": "markdown",
   "id": "2cbd71c0",
   "metadata": {},
   "source": [
    "## Get Time Zone of a Given Location:"
   ]
  },
  {
   "cell_type": "markdown",
   "id": "65cd7477",
   "metadata": {},
   "source": [
    "#### Geopy provides functionality to retrieve timezone information for a specific location. "
   ]
  },
  {
   "cell_type": "code",
   "execution_count": 81,
   "id": "a3356772",
   "metadata": {},
   "outputs": [],
   "source": [
    "from geopy.timezone import Timezone\n",
    "from timezonefinder import TimezoneFinder"
   ]
  },
  {
   "cell_type": "markdown",
   "id": "f57ed40a",
   "metadata": {},
   "source": [
    "####  We import the Timezone class from geopy.timezone. We pass the latitude and longitude of a location to the timezone_at method, which returns the timezone information for that location."
   ]
  },
  {
   "cell_type": "code",
   "execution_count": 72,
   "id": "88993fde",
   "metadata": {},
   "outputs": [],
   "source": [
    "#Object creation-\n",
    "\n",
    "obj = TimezoneFinder()"
   ]
  },
  {
   "cell_type": "code",
   "execution_count": 75,
   "id": "80947211",
   "metadata": {},
   "outputs": [],
   "source": [
    "#Pass the longitude and latitude in timezone_at and it return time zone \n",
    "\n",
    "latitude = 18.84231\n",
    "longitude = 32.75375"
   ]
  },
  {
   "cell_type": "code",
   "execution_count": 76,
   "id": "e8e88c61",
   "metadata": {},
   "outputs": [
    {
     "name": "stdout",
     "output_type": "stream",
     "text": [
      "Etc/GMT-1\n"
     ]
    }
   ],
   "source": [
    "print(obj.timezone_at(lng=latitude, lat=longitude))"
   ]
  },
  {
   "cell_type": "markdown",
   "id": "ec1db563",
   "metadata": {},
   "source": [
    "## Place Search:"
   ]
  },
  {
   "cell_type": "markdown",
   "id": "326b7eb4",
   "metadata": {},
   "source": [
    "#### Geopy allows you to perform place searches based on a query string."
   ]
  },
  {
   "cell_type": "code",
   "execution_count": 36,
   "id": "2a47d3a9",
   "metadata": {},
   "outputs": [],
   "source": [
    "from geopy.geocoders import Nominatim"
   ]
  },
  {
   "cell_type": "code",
   "execution_count": 37,
   "id": "caff0d54",
   "metadata": {},
   "outputs": [],
   "source": [
    "#Create a geocoder object-\n",
    "\n",
    "geolocator = Nominatim(user_agent=\"my-app\")"
   ]
  },
  {
   "cell_type": "code",
   "execution_count": 38,
   "id": "eecba3c0",
   "metadata": {},
   "outputs": [],
   "source": [
    "#Perform a place search-\n",
    "\n",
    "query = \"restaurant\"\n",
    "results = geolocator.geocode(query, exactly_one = False)"
   ]
  },
  {
   "cell_type": "code",
   "execution_count": 39,
   "id": "e1e37c45",
   "metadata": {},
   "outputs": [
    {
     "name": "stdout",
     "output_type": "stream",
     "text": [
      "restaurant, Commercial, Mosquée Tilepoulou, N'Zérékoré-Centre, Nzérékoré, Guinée\n",
      "7.74622855 -8.819851630911195\n",
      "\n",
      "Future station service, boulangerie, restaurant, La Grange-Besson, Vallerois-Lorioz, Vesoul, Haute-Saône, Bourgogne-Franche-Comté, France métropolitaine, 70000, France\n",
      "47.57384445 6.138279531994308\n",
      "\n",
      "Neubau (Metzgerei, Hotel, Restaurant, Tagungsräume) Hotel Wittmann, Weinberg, Neumarkt in der Oberpfalz, Landkreis Neumarkt in der Oberpfalz, Bayern, 92318, Deutschland\n",
      "49.274438599999996 11.458678257358994\n",
      "\n",
      "Atelefugne Bar, Restaurant, Rooms, ቡልጋሪያ, አዲስ አበባ / Addis Ababa, Kirkos, አዲስ አበባ / Addis Ababa, አዲስ አበባ, ኢትዮጵያ\n",
      "8.992008899999998 38.74843267115515\n",
      "\n",
      "Restaurant, Kannapolis, Cabarrus County, North Carolina, United States\n",
      "35.46942435 -80.61067922383344\n",
      "\n",
      "Yussar Playground, WIsata Kuda, Restaurant, Gempolsari, Tanggulangin, Sidoarjo, Jawa Timur, Indonesia\n",
      "-7.5141651 112.72753997005543\n",
      "\n",
      "Restaurant, Ouahigouya, Yatenga, Nord, Burkina Faso\n",
      "13.5682111 -2.4099823\n",
      "\n",
      "Restaurant, 11, Massetts Road, Meath Green, Horley, Reigate and Banstead, Surrey, England, RH6 7PR, United Kingdom\n",
      "51.1714195 -0.1639214\n",
      "\n",
      "Restaurant, Route de prison, voie de Yopougon-N'Dotré, Abobo, Abidjan, Côte d’Ivoire\n",
      "5.431548 -4.0689305\n",
      "\n",
      "Restaurant, Route de prison, voie de Yopougon-N'Dotré, N’dotré, Abobo, Abidjan, Côte d’Ivoire\n",
      "5.440264 -4.0698043\n",
      "\n"
     ]
    }
   ],
   "source": [
    "#Print the results-\n",
    "\n",
    "for location in results:\n",
    "    print(location.address)\n",
    "    print(location.latitude, location.longitude)\n",
    "    print()"
   ]
  },
  {
   "cell_type": "markdown",
   "id": "366331b6",
   "metadata": {},
   "source": [
    "## Get Zip Code with given location:"
   ]
  },
  {
   "cell_type": "code",
   "execution_count": 52,
   "id": "2bae500c",
   "metadata": {},
   "outputs": [],
   "source": [
    "#Import module-\n",
    "\n",
    "from geopy.geocoders import Nominatim"
   ]
  },
  {
   "cell_type": "code",
   "execution_count": 53,
   "id": "aed724c1",
   "metadata": {},
   "outputs": [],
   "source": [
    "#Initialize Nominatim API-\n",
    "\n",
    "geolocator = Nominatim(user_agent=\"geoapiExercises\")"
   ]
  },
  {
   "cell_type": "code",
   "execution_count": 57,
   "id": "5d78392f",
   "metadata": {},
   "outputs": [
    {
     "name": "stdout",
     "output_type": "stream",
     "text": [
      "Boring Road, Patna, Patna Rural, Patna District, Bihar, 800001, India\n"
     ]
    }
   ],
   "source": [
    "location = geolocator.geocode(\"Boring road patna\")\n",
    "print(location)"
   ]
  },
  {
   "cell_type": "code",
   "execution_count": 58,
   "id": "0f64cb7d",
   "metadata": {},
   "outputs": [
    {
     "name": "stdout",
     "output_type": "stream",
     "text": [
      "{'place_id': 229173586, 'licence': 'Data © OpenStreetMap contributors, ODbL 1.0. https://osm.org/copyright', 'osm_type': 'way', 'osm_id': 603915294, 'boundingbox': ['25.612676', '25.6205531', '85.1084598', '85.1187852'], 'lat': '25.6166447', 'lon': '85.1136078', 'display_name': 'Boring Road, Patna, Patna Rural, Patna District, Bihar, 800001, India', 'class': 'highway', 'type': 'tertiary', 'importance': 0.4}\n"
     ]
    }
   ],
   "source": [
    "#Now get the information from the given list and parsed into a dictionary with raw function().\n",
    "\n",
    "data = location.raw\n",
    "print(data)"
   ]
  },
  {
   "cell_type": "code",
   "execution_count": 59,
   "id": "8d8acd0d",
   "metadata": {},
   "outputs": [
    {
     "name": "stdout",
     "output_type": "stream",
     "text": [
      "Full Location\n",
      "['Boring', 'Road,', 'Patna,', 'Patna', 'Rural,', 'Patna', 'District,', 'Bihar,', '800001,', 'India']\n",
      "Zip code :  800001,\n"
     ]
    }
   ],
   "source": [
    "#Now traverse the ZIP Code from a given dictionary-\n",
    "\n",
    "loc_data = data['display_name'].split()\n",
    "print(\"Full Location\")\n",
    "print(loc_data)\n",
    "print(\"Zip code : \",loc_data[-2])"
   ]
  },
  {
   "cell_type": "markdown",
   "id": "d273d7b3",
   "metadata": {},
   "source": [
    "## Point:"
   ]
  },
  {
   "cell_type": "markdown",
   "id": "28fba609",
   "metadata": {},
   "source": [
    "#### It represents a geographical point with latitude, longitude, and optional altitude."
   ]
  },
  {
   "cell_type": "code",
   "execution_count": 97,
   "id": "0c36b4b6",
   "metadata": {},
   "outputs": [],
   "source": [
    "from geopy.point import Point"
   ]
  },
  {
   "cell_type": "code",
   "execution_count": 98,
   "id": "99fe5f6e",
   "metadata": {},
   "outputs": [],
   "source": [
    "#Create a point object-\n",
    "\n",
    "latitude = 40.7128\n",
    "longitude = -74.0060\n",
    "altitude = 10"
   ]
  },
  {
   "cell_type": "code",
   "execution_count": 99,
   "id": "94cd979b",
   "metadata": {},
   "outputs": [
    {
     "name": "stdout",
     "output_type": "stream",
     "text": [
      "40.7128\n",
      "-74.006\n",
      "10.0\n"
     ]
    }
   ],
   "source": [
    "point = Point(latitude, longitude, altitude)\n",
    "\n",
    "print(point.latitude)\n",
    "print(point.longitude)\n",
    "print(point.altitude)"
   ]
  },
  {
   "cell_type": "markdown",
   "id": "117971a8",
   "metadata": {},
   "source": [
    "##  Formatter:"
   ]
  },
  {
   "cell_type": "markdown",
   "id": "4372454c",
   "metadata": {},
   "source": [
    "#### It format a geocoded address into a human-readable string"
   ]
  },
  {
   "cell_type": "code",
   "execution_count": 104,
   "id": "a1acc4ce",
   "metadata": {},
   "outputs": [
    {
     "name": "stdout",
     "output_type": "stream",
     "text": [
      "City of New York, New York, United States\n"
     ]
    }
   ],
   "source": [
    "from geopy.geocoders import Nominatim\n",
    "\n",
    "geolocator = Nominatim(user_agent=\"my-app\")\n",
    "\n",
    "# Geocode a location-\n",
    "\n",
    "location = geolocator.geocode(\"New York City\")\n",
    "formatted_address = location.address\n",
    "print(formatted_address)"
   ]
  }
 ],
 "metadata": {
  "kernelspec": {
   "display_name": "Python 3 (ipykernel)",
   "language": "python",
   "name": "python3"
  },
  "language_info": {
   "codemirror_mode": {
    "name": "ipython",
    "version": 3
   },
   "file_extension": ".py",
   "mimetype": "text/x-python",
   "name": "python",
   "nbconvert_exporter": "python",
   "pygments_lexer": "ipython3",
   "version": "3.10.9"
  }
 },
 "nbformat": 4,
 "nbformat_minor": 5
}
