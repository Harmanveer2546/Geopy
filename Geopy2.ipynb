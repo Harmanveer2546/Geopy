{
 "cells": [
  {
   "cell_type": "markdown",
   "id": "5b314944",
   "metadata": {},
   "source": [
    "# GEOCODING & DISTANCE MEASUREMENT WITH GEOPY"
   ]
  },
  {
   "cell_type": "markdown",
   "id": "aa36a655",
   "metadata": {},
   "source": [
    "## Imports:"
   ]
  },
  {
   "cell_type": "code",
   "execution_count": 1,
   "id": "444eda97",
   "metadata": {},
   "outputs": [],
   "source": [
    "import geopy\n",
    "from geopy.geocoders import Nominatim\n",
    "from geopy.extra.rate_limiter import RateLimiter\n",
    "from geopy import distance\n",
    "\n",
    "import pandas as pd\n",
    "from ipyleaflet import Map, AntPath, MeasureControl\n",
    "import ipywidgets\n",
    "from vega_datasets import data as vds"
   ]
  },
  {
   "cell_type": "markdown",
   "id": "54309e5b",
   "metadata": {},
   "source": [
    "#### Working-\n",
    "\n",
    "#### import geopy: This imports the geopy module, which is the main module of the Geopy package. It provides various geocoding and geospatial functionality.\n",
    "#### from geopy.geocoders import Nominatim: This imports the Nominatim geocoder from the geopy.geocoders module. The Nominatim geocoder is based on OpenStreetMap data and is commonly used for geocoding addresses.\n",
    "#### from geopy.extra.rate_limiter import RateLimiter: This imports the RateLimiter class from the geopy.extra.rate_limiter module. The RateLimiter class is used to control the rate of geocoding requests, allowing you to limit the number of requests per second or minute.\n",
    "#### from geopy import distance: This imports the distance module from Geopy. It provides functions and classes for calculating distances between geographic coordinates using different algorithms, such as Haversine or Vincenty.\n",
    "#### from ipyleaflet import Map, AntPath, MeasureControl: This imports the Map, AntPath, and MeasureControl classes from the ipyleaflet module. Map is a widget for displaying interactive maps, AntPath is used for drawing animated paths on the map, and MeasureControl provides a tool for measuring distances on the map.\n",
    "#### import ipywidgets: This imports the ipywidgets module, which provides various interactive widgets for Jupyter notebooks. It is often used in conjunction with ipyleaflet to enhance interactivity and user experience.\n",
    "#### from vega_datasets import data as vds: This imports the data module from the vega_datasets package and assigns it the alias vds. vega_datasets provides a collection of example datasets commonly used for data visualization tasks with packages like Vega and Altair."
   ]
  },
  {
   "cell_type": "markdown",
   "id": "eacc456a",
   "metadata": {},
   "source": [
    "## GEOLOCATION DATA FROM ADDRESS:"
   ]
  },
  {
   "cell_type": "code",
   "execution_count": 2,
   "id": "fef5661c",
   "metadata": {},
   "outputs": [],
   "source": [
    "# Address or name-\n",
    "\n",
    "indy_500_address = '4790 W 16th St, Indianapolis, IN 46222'"
   ]
  },
  {
   "cell_type": "code",
   "execution_count": 3,
   "id": "86e0b580",
   "metadata": {},
   "outputs": [
    {
     "data": {
      "text/plain": [
       "Location(Indianapolis Motor Speedway Hall of Fame & Museum, 4790, West 16th Street, Indianapolis, Marion County, Indiana, 46222, United States, (39.790318600000006, -86.23369319174797, 0.0))"
      ]
     },
     "execution_count": 3,
     "metadata": {},
     "output_type": "execute_result"
    }
   ],
   "source": [
    "# Nominatim geocoder for OpenStreetMap data\n",
    "# *** change user_agent to your custom user_agent name ***\n",
    "# geocode returns a location point by address\n",
    "\n",
    "indy_500 = Nominatim(user_agent='tutorial').geocode(indy_500_address)\n",
    "indy_500"
   ]
  },
  {
   "cell_type": "code",
   "execution_count": 4,
   "id": "4c1a67ff",
   "metadata": {},
   "outputs": [
    {
     "data": {
      "text/plain": [
       "'Indianapolis Motor Speedway Hall of Fame & Museum, 4790, West 16th Street, Indianapolis, Marion County, Indiana, 46222, United States'"
      ]
     },
     "execution_count": 4,
     "metadata": {},
     "output_type": "execute_result"
    }
   ],
   "source": [
    "#Full Address-\n",
    "\n",
    "indy_500.address"
   ]
  },
  {
   "cell_type": "code",
   "execution_count": 5,
   "id": "8e08e457",
   "metadata": {},
   "outputs": [
    {
     "data": {
      "text/plain": [
       "(39.790318600000006, -86.23369319174797)"
      ]
     },
     "execution_count": 5,
     "metadata": {},
     "output_type": "execute_result"
    }
   ],
   "source": [
    "#Latitiude and Longitude-\n",
    "\n",
    "(indy_500.latitude, indy_500.longitude)"
   ]
  },
  {
   "cell_type": "code",
   "execution_count": 6,
   "id": "107b6f9e",
   "metadata": {},
   "outputs": [
    {
     "data": {
      "text/plain": [
       "{'place_id': 118721906,\n",
       " 'licence': 'Data © OpenStreetMap contributors, ODbL 1.0. https://osm.org/copyright',\n",
       " 'osm_type': 'way',\n",
       " 'osm_id': 51315962,\n",
       " 'boundingbox': ['39.7899432', '39.7906845', '-86.2341062', '-86.2332791'],\n",
       " 'lat': '39.790318600000006',\n",
       " 'lon': '-86.23369319174797',\n",
       " 'display_name': 'Indianapolis Motor Speedway Hall of Fame & Museum, 4790, West 16th Street, Indianapolis, Marion County, Indiana, 46222, United States',\n",
       " 'class': 'building',\n",
       " 'type': 'yes',\n",
       " 'importance': 1.0690557430834509}"
      ]
     },
     "execution_count": 6,
     "metadata": {},
     "output_type": "execute_result"
    }
   ],
   "source": [
    "#All Geolocation Data-\n",
    "\n",
    "indy_500.raw"
   ]
  },
  {
   "cell_type": "markdown",
   "id": "3aca8aea",
   "metadata": {},
   "source": [
    "## GEOLOCATION DATA FROM LIST OF ADDRESSES:"
   ]
  },
  {
   "cell_type": "code",
   "execution_count": 7,
   "id": "0d6fbadc",
   "metadata": {},
   "outputs": [
    {
     "data": {
      "text/html": [
       "<div>\n",
       "<style scoped>\n",
       "    .dataframe tbody tr th:only-of-type {\n",
       "        vertical-align: middle;\n",
       "    }\n",
       "\n",
       "    .dataframe tbody tr th {\n",
       "        vertical-align: top;\n",
       "    }\n",
       "\n",
       "    .dataframe thead th {\n",
       "        text-align: right;\n",
       "    }\n",
       "</style>\n",
       "<table border=\"1\" class=\"dataframe\">\n",
       "  <thead>\n",
       "    <tr style=\"text-align: right;\">\n",
       "      <th></th>\n",
       "      <th>Building</th>\n",
       "      <th>City</th>\n",
       "      <th>Country</th>\n",
       "      <th>Height</th>\n",
       "      <th>Floors</th>\n",
       "      <th>Year</th>\n",
       "    </tr>\n",
       "  </thead>\n",
       "  <tbody>\n",
       "    <tr>\n",
       "      <th>0</th>\n",
       "      <td>Burj Khalifa</td>\n",
       "      <td>Dubai</td>\n",
       "      <td>United Arab Emirates</td>\n",
       "      <td>2717</td>\n",
       "      <td>163</td>\n",
       "      <td>2010</td>\n",
       "    </tr>\n",
       "    <tr>\n",
       "      <th>1</th>\n",
       "      <td>Shanghai Tower</td>\n",
       "      <td>Shanghai</td>\n",
       "      <td>China</td>\n",
       "      <td>2073</td>\n",
       "      <td>128</td>\n",
       "      <td>2015</td>\n",
       "    </tr>\n",
       "    <tr>\n",
       "      <th>2</th>\n",
       "      <td>Makkah Royal Clock Tower</td>\n",
       "      <td>Mecca</td>\n",
       "      <td>Saudi Arabia</td>\n",
       "      <td>1971</td>\n",
       "      <td>120</td>\n",
       "      <td>2012</td>\n",
       "    </tr>\n",
       "    <tr>\n",
       "      <th>3</th>\n",
       "      <td>Ping An Finance Center</td>\n",
       "      <td>Shenzhen</td>\n",
       "      <td>China</td>\n",
       "      <td>1965</td>\n",
       "      <td>115</td>\n",
       "      <td>2017</td>\n",
       "    </tr>\n",
       "    <tr>\n",
       "      <th>4</th>\n",
       "      <td>Lotte World Tower</td>\n",
       "      <td>Seoul</td>\n",
       "      <td>South Korea</td>\n",
       "      <td>1819</td>\n",
       "      <td>123</td>\n",
       "      <td>2016</td>\n",
       "    </tr>\n",
       "  </tbody>\n",
       "</table>\n",
       "</div>"
      ],
      "text/plain": [
       "                   Building      City               Country  Height  Floors  \\\n",
       "0              Burj Khalifa     Dubai  United Arab Emirates    2717     163   \n",
       "1            Shanghai Tower  Shanghai                 China    2073     128   \n",
       "2  Makkah Royal Clock Tower     Mecca          Saudi Arabia    1971     120   \n",
       "3    Ping An Finance Center  Shenzhen                 China    1965     115   \n",
       "4         Lotte World Tower     Seoul           South Korea    1819     123   \n",
       "\n",
       "   Year  \n",
       "0  2010  \n",
       "1  2015  \n",
       "2  2012  \n",
       "3  2017  \n",
       "4  2016  "
      ]
     },
     "execution_count": 7,
     "metadata": {},
     "output_type": "execute_result"
    }
   ],
   "source": [
    "data = 'https://raw.githubusercontent.com/groundhogday321/dataframe-datasets/master/five_tallest_buildings.csv'\n",
    "tallest_buildings = pd.read_csv(data)\n",
    "tallest_buildings"
   ]
  },
  {
   "cell_type": "markdown",
   "id": "478ddc8f",
   "metadata": {},
   "source": [
    "### RateLimiter and AsyncRateLimiter help perform bulk operations while gracefully handling error responses and adding delays when needed."
   ]
  },
  {
   "cell_type": "code",
   "execution_count": 8,
   "id": "b4d15958",
   "metadata": {},
   "outputs": [],
   "source": [
    "# Nominatim geocoder for OpenStreetMap data with RateLimiter-\n",
    "\n",
    "geocoder = RateLimiter(Nominatim(user_agent='tutorial').geocode, min_delay_seconds=1)\n",
    "tallest_buildings['Location'] = tallest_buildings['Building'].apply(geocoder)"
   ]
  },
  {
   "cell_type": "code",
   "execution_count": 9,
   "id": "da0d7630",
   "metadata": {},
   "outputs": [],
   "source": [
    "# Add latitude and longitude to dataframe-\n",
    "\n",
    "tallest_buildings['Latitude'] = tallest_buildings['Location'].apply(lambda loc: loc.latitude if loc else None)\n",
    "tallest_buildings['Longitude'] = tallest_buildings['Location'].apply(lambda loc: loc.longitude if loc else None)"
   ]
  },
  {
   "cell_type": "code",
   "execution_count": 10,
   "id": "599cf3bd",
   "metadata": {},
   "outputs": [
    {
     "data": {
      "text/html": [
       "<div>\n",
       "<style scoped>\n",
       "    .dataframe tbody tr th:only-of-type {\n",
       "        vertical-align: middle;\n",
       "    }\n",
       "\n",
       "    .dataframe tbody tr th {\n",
       "        vertical-align: top;\n",
       "    }\n",
       "\n",
       "    .dataframe thead th {\n",
       "        text-align: right;\n",
       "    }\n",
       "</style>\n",
       "<table border=\"1\" class=\"dataframe\">\n",
       "  <thead>\n",
       "    <tr style=\"text-align: right;\">\n",
       "      <th></th>\n",
       "      <th>Building</th>\n",
       "      <th>City</th>\n",
       "      <th>Country</th>\n",
       "      <th>Height</th>\n",
       "      <th>Floors</th>\n",
       "      <th>Year</th>\n",
       "      <th>Location</th>\n",
       "      <th>Latitude</th>\n",
       "      <th>Longitude</th>\n",
       "    </tr>\n",
       "  </thead>\n",
       "  <tbody>\n",
       "    <tr>\n",
       "      <th>0</th>\n",
       "      <td>Burj Khalifa</td>\n",
       "      <td>Dubai</td>\n",
       "      <td>United Arab Emirates</td>\n",
       "      <td>2717</td>\n",
       "      <td>163</td>\n",
       "      <td>2010</td>\n",
       "      <td>(برج خليفة, 1, شارع الشيخ محمد بن راشد, وسط مد...</td>\n",
       "      <td>25.197031</td>\n",
       "      <td>55.274222</td>\n",
       "    </tr>\n",
       "    <tr>\n",
       "      <th>1</th>\n",
       "      <td>Shanghai Tower</td>\n",
       "      <td>Shanghai</td>\n",
       "      <td>China</td>\n",
       "      <td>2073</td>\n",
       "      <td>128</td>\n",
       "      <td>2015</td>\n",
       "      <td>(上海中心大厦, 501, 银城中路, 陆家嘴街道, 浦东新区, 200010, 中国, (...</td>\n",
       "      <td>31.235645</td>\n",
       "      <td>121.501250</td>\n",
       "    </tr>\n",
       "    <tr>\n",
       "      <th>2</th>\n",
       "      <td>Makkah Royal Clock Tower</td>\n",
       "      <td>Mecca</td>\n",
       "      <td>Saudi Arabia</td>\n",
       "      <td>1971</td>\n",
       "      <td>120</td>\n",
       "      <td>2012</td>\n",
       "      <td>(Fairmont Makkah Clock Royal Tower, Bab Al Mal...</td>\n",
       "      <td>21.418038</td>\n",
       "      <td>39.825302</td>\n",
       "    </tr>\n",
       "    <tr>\n",
       "      <th>3</th>\n",
       "      <td>Ping An Finance Center</td>\n",
       "      <td>Shenzhen</td>\n",
       "      <td>China</td>\n",
       "      <td>1965</td>\n",
       "      <td>115</td>\n",
       "      <td>2017</td>\n",
       "      <td>(平安金融中心, 5033, 益田路, 福安社区, 福田街道, 福田区, 深圳市, 广东省,...</td>\n",
       "      <td>22.536724</td>\n",
       "      <td>114.050355</td>\n",
       "    </tr>\n",
       "    <tr>\n",
       "      <th>4</th>\n",
       "      <td>Lotte World Tower</td>\n",
       "      <td>Seoul</td>\n",
       "      <td>South Korea</td>\n",
       "      <td>1819</td>\n",
       "      <td>123</td>\n",
       "      <td>2016</td>\n",
       "      <td>(Lotte World Tower Street, Ekurhuleni Ward 1, ...</td>\n",
       "      <td>-25.913266</td>\n",
       "      <td>28.208488</td>\n",
       "    </tr>\n",
       "  </tbody>\n",
       "</table>\n",
       "</div>"
      ],
      "text/plain": [
       "                   Building      City               Country  Height  Floors  \\\n",
       "0              Burj Khalifa     Dubai  United Arab Emirates    2717     163   \n",
       "1            Shanghai Tower  Shanghai                 China    2073     128   \n",
       "2  Makkah Royal Clock Tower     Mecca          Saudi Arabia    1971     120   \n",
       "3    Ping An Finance Center  Shenzhen                 China    1965     115   \n",
       "4         Lotte World Tower     Seoul           South Korea    1819     123   \n",
       "\n",
       "   Year                                           Location   Latitude  \\\n",
       "0  2010  (برج خليفة, 1, شارع الشيخ محمد بن راشد, وسط مد...  25.197031   \n",
       "1  2015  (上海中心大厦, 501, 银城中路, 陆家嘴街道, 浦东新区, 200010, 中国, (...  31.235645   \n",
       "2  2012  (Fairmont Makkah Clock Royal Tower, Bab Al Mal...  21.418038   \n",
       "3  2017  (平安金融中心, 5033, 益田路, 福安社区, 福田街道, 福田区, 深圳市, 广东省,...  22.536724   \n",
       "4  2016  (Lotte World Tower Street, Ekurhuleni Ward 1, ... -25.913266   \n",
       "\n",
       "    Longitude  \n",
       "0   55.274222  \n",
       "1  121.501250  \n",
       "2   39.825302  \n",
       "3  114.050355  \n",
       "4   28.208488  "
      ]
     },
     "execution_count": 10,
     "metadata": {},
     "output_type": "execute_result"
    }
   ],
   "source": [
    "tallest_buildings"
   ]
  },
  {
   "cell_type": "markdown",
   "id": "0e5b67d4",
   "metadata": {},
   "source": [
    "## ADDRESS FROM LATITUDE AND LONGITUDE:"
   ]
  },
  {
   "cell_type": "code",
   "execution_count": 11,
   "id": "3eda6d34",
   "metadata": {},
   "outputs": [
    {
     "data": {
      "text/html": [
       "<div>\n",
       "<style scoped>\n",
       "    .dataframe tbody tr th:only-of-type {\n",
       "        vertical-align: middle;\n",
       "    }\n",
       "\n",
       "    .dataframe tbody tr th {\n",
       "        vertical-align: top;\n",
       "    }\n",
       "\n",
       "    .dataframe thead th {\n",
       "        text-align: right;\n",
       "    }\n",
       "</style>\n",
       "<table border=\"1\" class=\"dataframe\">\n",
       "  <thead>\n",
       "    <tr style=\"text-align: right;\">\n",
       "      <th></th>\n",
       "      <th>iata</th>\n",
       "      <th>name</th>\n",
       "      <th>city</th>\n",
       "      <th>state</th>\n",
       "      <th>country</th>\n",
       "      <th>latitude</th>\n",
       "      <th>longitude</th>\n",
       "    </tr>\n",
       "  </thead>\n",
       "  <tbody>\n",
       "    <tr>\n",
       "      <th>0</th>\n",
       "      <td>00M</td>\n",
       "      <td>Thigpen</td>\n",
       "      <td>Bay Springs</td>\n",
       "      <td>MS</td>\n",
       "      <td>USA</td>\n",
       "      <td>31.953765</td>\n",
       "      <td>-89.234505</td>\n",
       "    </tr>\n",
       "    <tr>\n",
       "      <th>1</th>\n",
       "      <td>00R</td>\n",
       "      <td>Livingston Municipal</td>\n",
       "      <td>Livingston</td>\n",
       "      <td>TX</td>\n",
       "      <td>USA</td>\n",
       "      <td>30.685861</td>\n",
       "      <td>-95.017928</td>\n",
       "    </tr>\n",
       "    <tr>\n",
       "      <th>2</th>\n",
       "      <td>00V</td>\n",
       "      <td>Meadow Lake</td>\n",
       "      <td>Colorado Springs</td>\n",
       "      <td>CO</td>\n",
       "      <td>USA</td>\n",
       "      <td>38.945749</td>\n",
       "      <td>-104.569893</td>\n",
       "    </tr>\n",
       "    <tr>\n",
       "      <th>3</th>\n",
       "      <td>01G</td>\n",
       "      <td>Perry-Warsaw</td>\n",
       "      <td>Perry</td>\n",
       "      <td>NY</td>\n",
       "      <td>USA</td>\n",
       "      <td>42.741347</td>\n",
       "      <td>-78.052081</td>\n",
       "    </tr>\n",
       "    <tr>\n",
       "      <th>4</th>\n",
       "      <td>01J</td>\n",
       "      <td>Hilliard Airpark</td>\n",
       "      <td>Hilliard</td>\n",
       "      <td>FL</td>\n",
       "      <td>USA</td>\n",
       "      <td>30.688012</td>\n",
       "      <td>-81.905944</td>\n",
       "    </tr>\n",
       "  </tbody>\n",
       "</table>\n",
       "</div>"
      ],
      "text/plain": [
       "  iata                  name              city state country   latitude  \\\n",
       "0  00M               Thigpen       Bay Springs    MS     USA  31.953765   \n",
       "1  00R  Livingston Municipal        Livingston    TX     USA  30.685861   \n",
       "2  00V           Meadow Lake  Colorado Springs    CO     USA  38.945749   \n",
       "3  01G          Perry-Warsaw             Perry    NY     USA  42.741347   \n",
       "4  01J      Hilliard Airpark          Hilliard    FL     USA  30.688012   \n",
       "\n",
       "    longitude  \n",
       "0  -89.234505  \n",
       "1  -95.017928  \n",
       "2 -104.569893  \n",
       "3  -78.052081  \n",
       "4  -81.905944  "
      ]
     },
     "execution_count": 11,
     "metadata": {},
     "output_type": "execute_result"
    }
   ],
   "source": [
    "# Address from latitude and longitude-\n",
    "\n",
    "airports = vds.airports()\n",
    "airports.head()"
   ]
  },
  {
   "cell_type": "markdown",
   "id": "fee80503",
   "metadata": {},
   "source": [
    "#### The usage of the vds.airports() function to retrieve information about airports. 'vds' refers to a module or package that provides functionality related to airport data. It is assumed that this module or package has been imported before using the airports function.  "
   ]
  },
  {
   "cell_type": "code",
   "execution_count": 12,
   "id": "96810e3f",
   "metadata": {},
   "outputs": [
    {
     "data": {
      "text/plain": [
       "Location(Thigpen Field, Airport Road, Bay Springs, Jasper County, Mississippi, 39422, United States, (31.95360935, -89.23448754912013, 0.0))"
      ]
     },
     "execution_count": 12,
     "metadata": {},
     "output_type": "execute_result"
    }
   ],
   "source": [
    "# Nominatim geocoder for OpenStreetMap data\n",
    "# reverse returns an address by location point (latitude, longitude)\n",
    "\n",
    "airport = Nominatim(user_agent='tutorial').reverse((airports.latitude[0], airports.longitude[0]))\n",
    "airport"
   ]
  },
  {
   "cell_type": "code",
   "execution_count": 13,
   "id": "b26521c1",
   "metadata": {},
   "outputs": [
    {
     "data": {
      "text/plain": [
       "'Thigpen Field, Airport Road, Bay Springs, Jasper County, Mississippi, 39422, United States'"
      ]
     },
     "execution_count": 13,
     "metadata": {},
     "output_type": "execute_result"
    }
   ],
   "source": [
    "airport.address"
   ]
  },
  {
   "cell_type": "code",
   "execution_count": 14,
   "id": "3d4cb3c3",
   "metadata": {},
   "outputs": [
    {
     "data": {
      "text/plain": [
       "{'place_id': 269564221,\n",
       " 'licence': 'Data © OpenStreetMap contributors, ODbL 1.0. https://osm.org/copyright',\n",
       " 'osm_type': 'way',\n",
       " 'osm_id': 852173750,\n",
       " 'lat': '31.95360935',\n",
       " 'lon': '-89.23448754912013',\n",
       " 'display_name': 'Thigpen Field, Airport Road, Bay Springs, Jasper County, Mississippi, 39422, United States',\n",
       " 'address': {'aeroway': 'Thigpen Field',\n",
       "  'road': 'Airport Road',\n",
       "  'village': 'Bay Springs',\n",
       "  'county': 'Jasper County',\n",
       "  'state': 'Mississippi',\n",
       "  'ISO3166-2-lvl4': 'US-MS',\n",
       "  'postcode': '39422',\n",
       "  'country': 'United States',\n",
       "  'country_code': 'us'},\n",
       " 'boundingbox': ['31.947929', '31.9585793', '-89.2377653', '-89.2323349']}"
      ]
     },
     "execution_count": 14,
     "metadata": {},
     "output_type": "execute_result"
    }
   ],
   "source": [
    "airport.raw"
   ]
  },
  {
   "cell_type": "markdown",
   "id": "0ddda4ea",
   "metadata": {},
   "source": [
    "## CALCULATING DISTANCE:"
   ]
  },
  {
   "cell_type": "code",
   "execution_count": 18,
   "id": "287689a9",
   "metadata": {},
   "outputs": [
    {
     "data": {
      "text/plain": [
       "352.98342452610063"
      ]
     },
     "execution_count": 18,
     "metadata": {},
     "output_type": "execute_result"
    }
   ],
   "source": [
    "# Put in start latitude, longitude and end latitude, longitude\n",
    "# geopy.distance.distance currently uses geodesic (source: documentation)-\n",
    "\n",
    "distance.distance((31.953765, -89.234505), (30.685861, -95.017928)).miles"
   ]
  },
  {
   "cell_type": "code",
   "execution_count": 19,
   "id": "2d29a18a",
   "metadata": {},
   "outputs": [
    {
     "data": {
      "text/plain": [
       "352.98342452610063"
      ]
     },
     "execution_count": 19,
     "metadata": {},
     "output_type": "execute_result"
    }
   ],
   "source": [
    "distance.geodesic((31.953765, -89.234505), (30.685861, -95.017928)).miles"
   ]
  },
  {
   "cell_type": "code",
   "execution_count": 20,
   "id": "bd289237",
   "metadata": {},
   "outputs": [
    {
     "data": {
      "text/plain": [
       "352.37625288490705"
      ]
     },
     "execution_count": 20,
     "metadata": {},
     "output_type": "execute_result"
    }
   ],
   "source": [
    "distance.great_circle((31.953765, -89.234505), (30.685861, -95.017928)).miles"
   ]
  },
  {
   "cell_type": "markdown",
   "id": "cc5db1fd",
   "metadata": {},
   "source": [
    "### EXAMPLE WITH MAP:"
   ]
  },
  {
   "cell_type": "code",
   "execution_count": 21,
   "id": "d5848f1e",
   "metadata": {},
   "outputs": [
    {
     "data": {
      "application/vnd.jupyter.widget-view+json": {
       "model_id": "513b5a3da1444659b7ed70d3bd4f97b6",
       "version_major": 2,
       "version_minor": 0
      },
      "text/plain": [
       "interactive(children=(Dropdown(description='start:', options=('Thigpen', 'Livingston Municipal', 'Meadow Lake'…"
      ]
     },
     "metadata": {},
     "output_type": "display_data"
    }
   ],
   "source": [
    "# widgets\n",
    "start_dropdown = ipywidgets.Dropdown(options=list(airports.name),\n",
    "                                     value=list(airports.name)[0],\n",
    "                                     description='start:',\n",
    "                                     disabled=False)\n",
    "\n",
    "end_dropdown = ipywidgets.Dropdown(options=list(airports.name),\n",
    "                                   value=list(airports.name)[1],\n",
    "                                   description='end:',\n",
    "                                   disabled=False)\n",
    "\n",
    "# function\n",
    "# calculate distance from a to b\n",
    "# display map with ant path from a to b\n",
    "\n",
    "def get_coordinates(a, b):\n",
    "    start_lat = airports[airports.name == a].latitude.values[0]\n",
    "    start_long = airports[airports.name == a].longitude.values[0]\n",
    "    end_lat = airports[airports.name == b].latitude.values[0]\n",
    "    end_long = airports[airports.name == b].longitude.values[0]\n",
    "    start, end = (start_lat, start_long), (end_lat, end_long)\n",
    "    \n",
    "    m = Map(center=(38, -98), zoom=4, scroll_wheel_zoom=True)\n",
    "    ant_path = AntPath(locations=[start, end])\n",
    "    m.add_layer(ant_path)\n",
    "    measure = MeasureControl(position='topleft', active_color='red', primary_length_unit='miles')\n",
    "    m.add_control(measure)\n",
    "    display(m)\n",
    "    \n",
    "    return distance.distance(start, end).miles\n",
    "\n",
    "# interaction between function and widget\n",
    "ipywidgets.interact(get_coordinates, a=start_dropdown, b=end_dropdown);"
   ]
  },
  {
   "cell_type": "markdown",
   "id": "775e0657",
   "metadata": {},
   "source": [
    "### Here's a breakdown of the code:\n",
    "\n",
    "#### start_dropdown and end_dropdown are dropdown widgets created using the Dropdown class from the ipywidgets module. They are used to select the starting and ending airports respectively. The options for the dropdown are populated with the list of airport names from the airports variable.\n",
    "#### The get_coordinates function takes two arguments, a and b, which represent the selected starting and ending airports. Inside the function, the latitude and longitude coordinates of the selected airports are retrieved from the airports variable.\n",
    "#### The start and end coordinates are used to create a Map object from the ipyleaflet module. The map is centered at latitude 38 and longitude -98 with a zoom level of 4.\n",
    "#### An AntPath object is created with the start and end coordinates and added as a layer to the map. This will display a path between the starting and ending points.\n",
    "#### A MeasureControl object is created and added to the map. It allows the user to measure distances on the map.\n",
    "#### The map is displayed using the display function.\n",
    "#### The distance between the starting and ending points is calculated using the distance function from the geopy module. The result is returned in miles.\n",
    "#### The ipywidgets.interact function is used to connect the get_coordinates function with the dropdown widgets. Whenever the dropdown values change, the get_coordinates function is automatically called with the new selected values."
   ]
  }
 ],
 "metadata": {
  "kernelspec": {
   "display_name": "Python 3 (ipykernel)",
   "language": "python",
   "name": "python3"
  },
  "language_info": {
   "codemirror_mode": {
    "name": "ipython",
    "version": 3
   },
   "file_extension": ".py",
   "mimetype": "text/x-python",
   "name": "python",
   "nbconvert_exporter": "python",
   "pygments_lexer": "ipython3",
   "version": "3.10.9"
  }
 },
 "nbformat": 4,
 "nbformat_minor": 5
}
